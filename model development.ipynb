{
 "cells": [
  {
   "metadata": {
    "ExecuteTime": {
     "end_time": "2025-04-08T09:29:16.676349Z",
     "start_time": "2025-04-08T09:29:15.268461Z"
    }
   },
   "cell_type": "code",
   "source": [
    "import pandas as pd\n",
    "import numpy as np\n",
    "from utils import (\n",
    "    split_data, detect_categorical, fit_binning, create_iv_table,\n",
    "    drop_high_vif, perform_feature_selection, train_model, train_regressor,\n",
    "    evaluate_model, evaluate_regressor_model, save_model_artifacts\n",
    ")"
   ],
   "id": "b4ca878016c605f7",
   "outputs": [],
   "execution_count": 1
  },
  {
   "metadata": {
    "ExecuteTime": {
     "end_time": "2025-04-08T09:29:18.041621Z",
     "start_time": "2025-04-08T09:29:18.038501Z"
    }
   },
   "cell_type": "code",
   "source": "",
   "id": "f3eebce27dce604",
   "outputs": [],
   "execution_count": null
  },
  {
   "metadata": {},
   "cell_type": "markdown",
   "source": "# Model data preparation",
   "id": "81634640a7fe8252"
  },
  {
   "metadata": {
    "ExecuteTime": {
     "end_time": "2025-04-08T09:29:18.873698Z",
     "start_time": "2025-04-08T09:29:18.406168Z"
    }
   },
   "cell_type": "code",
   "source": [
    "# --- Load Data ---\n",
    "df_demog = pd.read_excel('Data/DataScientist_CaseStudy_Dataset.xlsx', sheet_name='Soc_Dem')\n",
    "df_bal = pd.read_excel('Data/DataScientist_CaseStudy_Dataset.xlsx', sheet_name='Products_ActBalance')\n",
    "df_in_out = pd.read_excel('Data/DataScientist_CaseStudy_Dataset.xlsx', sheet_name='Inflow_Outflow')\n",
    "df_target = pd.read_excel('Data/DataScientist_CaseStudy_Dataset.xlsx', sheet_name='Sales_Revenues')\n",
    "df_desc = pd.read_excel('Data/DataScientist_CaseStudy_Dataset.xlsx', sheet_name='Description')\n",
    "\n",
    "# Data merge pipeline\n",
    "df_master = (df_demog\n",
    "             .merge(df_in_out, on='Client')\n",
    "             .merge(df_bal, on='Client'))\n",
    "df_master_label = df_master.merge(df_target, on='Client').fillna(0)"
   ],
   "id": "21c9c10b51838c87",
   "outputs": [],
   "execution_count": 2
  },
  {
   "metadata": {},
   "cell_type": "markdown",
   "source": "# Model feature engineering",
   "id": "60f10df174f4edf9"
  },
  {
   "metadata": {
    "ExecuteTime": {
     "end_time": "2025-04-08T09:29:19.737425Z",
     "start_time": "2025-04-08T09:29:19.723908Z"
    }
   },
   "cell_type": "code",
   "source": [
    "# Adding feature engineering\n",
    "df_master_label['Avg_CA_bal'] = df_master_label['ActBal_CA']/df_master_label['Count_CA']\n",
    "df_master_label['Avg_SA_bal'] = df_master_label['ActBal_SA']/df_master_label['Count_SA']\n",
    "df_master_label['Avg_MF_bal'] = df_master_label['ActBal_MF']/df_master_label['Count_MF']\n",
    "df_master_label['utilization_CA'] = np.minimum(100,df_master_label['VolumeDeb_CA']/df_master_label['ActBal_CA'])"
   ],
   "id": "b77257863493d7a8",
   "outputs": [],
   "execution_count": 3
  },
  {
   "metadata": {
    "ExecuteTime": {
     "end_time": "2025-04-08T09:29:20.262930Z",
     "start_time": "2025-04-08T09:29:20.255163Z"
    }
   },
   "cell_type": "code",
   "source": "df_master_label['utilization_CA'].describe()",
   "id": "76315208f01d59a2",
   "outputs": [
    {
     "data": {
      "text/plain": [
       "count    951.000000\n",
       "mean      16.225776\n",
       "std       32.414396\n",
       "min        0.000000\n",
       "25%        0.135818\n",
       "50%        0.982017\n",
       "75%        8.535650\n",
       "max      100.000000\n",
       "Name: utilization_CA, dtype: float64"
      ]
     },
     "execution_count": 4,
     "metadata": {},
     "output_type": "execute_result"
    }
   ],
   "execution_count": 4
  },
  {
   "metadata": {},
   "cell_type": "markdown",
   "source": "# Model Training - Classification Models",
   "id": "4df80f136b532901"
  },
  {
   "metadata": {
    "ExecuteTime": {
     "end_time": "2025-04-08T08:59:38.926226Z",
     "start_time": "2025-04-08T08:59:34.930835Z"
    }
   },
   "cell_type": "code",
   "source": [
    "# --- Configuration ---\n",
    "# manually change below flags to train the 3 seperate models\n",
    "target_col = 'Sale_CL'\n",
    "# target_col = 'Sale_CC'\n",
    "# target_col = 'Sale_MF'\n",
    "\n",
    "drop_cols = ['Client', 'Sale_CC', 'Sale_MF', 'Sale_CL', 'Revenue_MF', 'Revenue_CL', 'Revenue_CC']\n",
    "\n",
    "# --- Split Data ---\n",
    "X_train, X_test, y_train, y_test = split_data(df_master_label, target_col, drop_cols)\n",
    "\n",
    "# --- Detect Categorical ---\n",
    "categorical_vars = detect_categorical(X_train)\n",
    "\n",
    "# --- Fit Binning ---\n",
    "binning_process = fit_binning(X_train, y_train, categorical_vars)\n",
    "\n",
    "# --- Create IV Table ---\n",
    "iv_df = create_iv_table(X_train, binning_process, target_col)\n",
    "print(\"Top IV variables:\")\n",
    "print(iv_df)\n",
    "\n",
    "# --- WoE Transform ---\n",
    "X_train_woe = binning_process.transform(X_train, metric=\"woe\")\n",
    "X_test_woe = binning_process.transform(X_test, metric=\"woe\")\n",
    "\n",
    "# --- VIF Reduction ---\n",
    "X_train_vif = drop_high_vif(X_train_woe)\n",
    "vif_selected_features = X_train_vif.columns.tolist()\n",
    "X_test_vif = X_test_woe[vif_selected_features]\n",
    "\n",
    "# --- Sequential Feature Selection ---\n",
    "selected_features = perform_feature_selection(X_train_vif, y_train)\n",
    "print(\"✅ Final selected features:\", selected_features)\n",
    "\n",
    "# --- Train Final Model ---\n",
    "X_train_final = X_train_vif[selected_features]\n",
    "X_test_final = X_test_vif[selected_features]\n",
    "lr_final = train_model(X_train_final, y_train)\n",
    "\n",
    "# --- Save Model & Metadata ---\n",
    "save_model_artifacts(lr_final, binning_process, selected_features, target_col)\n",
    "\n",
    "# --- Evaluate Model ---\n",
    "evaluate_model(lr_final, X_test_final, y_test, target_col)\n"
   ],
   "id": "30ce4f4490bac021",
   "outputs": [
    {
     "name": "stdout",
     "output_type": "stream",
     "text": [
      "Top IV variables:\n",
      "                        Variable        IV\n",
      "2                         Tenure  0.298206\n",
      "1                            Age  0.269976\n",
      "7                      VolumeDeb  0.154642\n",
      "8                   VolumeDeb_CA  0.134161\n",
      "29                    Avg_CA_bal  0.082223\n",
      "11        VolumeDeb_PaymentOrder  0.081808\n",
      "23                     ActBal_CA  0.081646\n",
      "15  TransactionsDebCashless_Card  0.071065\n",
      "14      TransactionsDebCash_Card  0.069225\n",
      "10        VolumeDebCashless_Card  0.067692\n",
      "32                utilization_CA  0.062826\n",
      "9             VolumeDebCash_Card  0.060428\n",
      "12               TransactionsDeb  0.048110\n",
      "13            TransactionsDeb_CA  0.047862\n",
      "4                  VolumeCred_CA  0.047279\n",
      "24                     ActBal_SA  0.045200\n",
      "3                     VolumeCred  0.043217\n",
      "31                    Avg_MF_bal  0.034913\n",
      "6            TransactionsCred_CA  0.034379\n",
      "5               TransactionsCred  0.033856\n",
      "19                      Count_MF  0.032041\n",
      "30                    Avg_SA_bal  0.027456\n",
      "27                     ActBal_CC  0.024734\n",
      "16  TransactionsDeb_PaymentOrder  0.022688\n",
      "25                     ActBal_MF  0.017351\n",
      "17                      Count_CA  0.014643\n",
      "28                     ActBal_CL  0.008988\n",
      "20                     Count_OVD  0.004411\n",
      "26                    ActBal_OVD  0.004200\n",
      "22                      Count_CL  0.002596\n",
      "0                            Sex  0.001566\n",
      "21                      Count_CC  0.000056\n",
      "18                      Count_SA  0.000043\n",
      "Dropping 'VolumeDeb_CA' with VIF = 7.64\n",
      "Dropping 'Avg_CA_bal' with VIF = 5.18\n"
     ]
    },
    {
     "name": "stderr",
     "output_type": "stream",
     "text": [
      "C:\\Users\\joeytian\\anaconda3\\Lib\\site-packages\\optbinning\\binning\\transformations.py:38: RuntimeWarning: invalid value encountered in log\n",
      "  return np.log((1. / event_rate - 1) * n_event / n_nonevent)\n",
      "C:\\Users\\joeytian\\anaconda3\\Lib\\site-packages\\optbinning\\binning\\transformations.py:38: RuntimeWarning: invalid value encountered in log\n",
      "  return np.log((1. / event_rate - 1) * n_event / n_nonevent)\n"
     ]
    },
    {
     "name": "stdout",
     "output_type": "stream",
     "text": [
      "✅ Final selected features: ['Age', 'Tenure', 'VolumeCred_CA', 'TransactionsCred', 'TransactionsCred_CA', 'VolumeDeb', 'VolumeDebCashless_Card', 'VolumeDeb_PaymentOrder', 'TransactionsDebCashless_Card', 'TransactionsDeb_PaymentOrder', 'Count_CA', 'ActBal_CA', 'ActBal_SA', 'ActBal_OVD', 'ActBal_CC', 'Avg_MF_bal']\n",
      "\n",
      "🔍 Model Evaluation on Test Set\n",
      "AUROC: 0.6731203007518797\n"
     ]
    },
    {
     "data": {
      "text/plain": [
       "<Figure size 600x400 with 1 Axes>"
      ],
      "image/png": "[encoded data removed]"
     },
     "metadata": {},
     "output_type": "display_data"
    }
   ],
   "execution_count": 7
  },
  {
   "metadata": {},
   "cell_type": "markdown",
   "source": "# Model Training - Regressor models",
   "id": "1015744f5e792fd1"
  },
  {
   "metadata": {
    "jupyter": {
     "is_executing": true
    },
    "ExecuteTime": {
     "start_time": "2025-04-08T09:29:24.897563Z"
    }
   },
   "cell_type": "code",
   "source": [
    "# --- Configuration ---\n",
    "# manually change below flags to train the 3 seperate models\n",
    "# filter_col = 'Sale_CL'\n",
    "# filter_col = 'Sale_CC'\n",
    "filter_col = 'Sale_MF'\n",
    "# target_col = 'Revenue_CL'\n",
    "# target_col = 'Revenue_CC'\n",
    "target_col = 'Revenue_MF'\n",
    "\n",
    "drop_cols = ['Client', 'Sale_CC', 'Sale_MF', 'Sale_CL', 'Revenue_MF', 'Revenue_CL', 'Revenue_CC']\n",
    "\n",
    "# --- Filter out customers who have revenue ---\n",
    "df_master_label_filter = df_master_label[df_master_label[filter_col] > 0].copy()\n",
    "\n",
    "# --- Split Data ---\n",
    "X_train, X_test, y_train, y_test = split_data(df_master_label_filter, target_col, drop_cols)\n",
    "\n",
    "# Convert categorical columns to 'category' dtype\n",
    "X_train['Sex'] = X_train['Sex'].astype('category')\n",
    "X_test['Sex'] = X_test['Sex'].astype('category')\n",
    "# numeric_cols = X_train.select_dtypes(include=['number']).columns  # Select only numeric columns\n",
    "\n",
    "# --- Remove outliers ---\n",
    "# Calculate IQR for each feature\n",
    "# Q1 = X_train[numeric_cols].quantile(0.25)  # 25th percentile (Q1)\n",
    "# Q3 = X_train[numeric_cols].quantile(0.75)\n",
    "# IQR = Q3 - Q1\n",
    "#\n",
    "# # Identify and remove outliers\n",
    "# X_train_no_outliers = X_train[~((X_train[numeric_cols] < (Q1 - 1.5 * IQR)) | (X_train[numeric_cols] > (Q3 + 1.5 * IQR))).any(axis=1)]\n",
    "# y_train_no_outliers = y_train[~((X_train[numeric_cols] < (Q1 - 1.5 * IQR)) | (X_train[numeric_cols] > (Q3 + 1.5 * IQR))).any(axis=1)]\n",
    "\n",
    "# --- Train Regressor Model ---\n",
    "xgb_final = train_regressor(X_train, y_train)\n",
    "\n",
    "# --- Save Model & Metadata ---\n",
    "save_model_artifacts(xgb_final, None, None, target_col)\n",
    "\n",
    "# --- Evaluate Model ---\n",
    "y_pred = xgb_final.predict(X_test)\n",
    "evaluate_regressor_model(xgb_final, X_test, y_test, target_col)"
   ],
   "id": "17213a79cb0720f0",
   "outputs": [
    {
     "name": "stdout",
     "output_type": "stream",
     "text": [
      "Fitting 3 folds for each of 384 candidates, totalling 1152 fits\n"
     ]
    }
   ],
   "execution_count": null
  },
  {
   "metadata": {
    "ExecuteTime": {
     "end_time": "2025-04-08T09:15:22.841104Z",
     "start_time": "2025-04-08T09:15:22.835084Z"
    }
   },
   "cell_type": "code",
   "source": [
    "print(target_col)\n",
    "y_pred.mean()"
   ],
   "id": "57058dc335d75fe2",
   "outputs": [
    {
     "name": "stdout",
     "output_type": "stream",
     "text": [
      "Revenue_MF\n"
     ]
    },
    {
     "data": {
      "text/plain": [
       "7.8262432617878614"
      ]
     },
     "execution_count": 8,
     "metadata": {},
     "output_type": "execute_result"
    }
   ],
   "execution_count": 8
  },
  {
   "metadata": {
    "ExecuteTime": {
     "end_time": "2025-04-08T07:54:47.330288Z",
     "start_time": "2025-04-08T07:54:47.325876Z"
    }
   },
   "cell_type": "code",
   "source": "",
   "id": "f795d4de94a54817",
   "outputs": [],
   "execution_count": null
  },
  {
   "metadata": {},
   "cell_type": "code",
   "outputs": [],
   "execution_count": null,
   "source": "",
   "id": "482a4ae9b5281dc3"
  }
 ],
 "metadata": {
  "kernelspec": {
   "display_name": "Python 3",
   "language": "python",
   "name": "python3"
  },
  "language_info": {
   "codemirror_mode": {
    "name": "ipython",
    "version": 2
   },
   "file_extension": ".py",
   "mimetype": "text/x-python",
   "name": "python",
   "nbconvert_exporter": "python",
   "pygments_lexer": "ipython2",
   "version": "2.7.6"
  }
 },
 "nbformat": 4,
 "nbformat_minor": 5
}
