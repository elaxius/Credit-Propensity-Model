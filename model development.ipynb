{
 "cells": [
  {
   "metadata": {
    "ExecuteTime": {
     "end_time": "2025-04-08T10:17:04.603214Z",
     "start_time": "2025-04-08T10:17:03.195603Z"
    }
   },
   "cell_type": "code",
   "source": [
    "import pandas as pd\n",
    "import numpy as np\n",
    "from utils import (\n",
    "    split_data, detect_categorical, fit_binning, create_iv_table,\n",
    "    drop_high_vif, perform_feature_selection, train_model, train_regressor,\n",
    "    evaluate_model, evaluate_regressor_model, save_model_artifacts\n",
    ")"
   ],
   "id": "b4ca878016c605f7",
   "outputs": [],
   "execution_count": 1
  },
  {
   "metadata": {
    "ExecuteTime": {
     "end_time": "2025-04-08T10:17:05.321788Z",
     "start_time": "2025-04-08T10:17:05.318958Z"
    }
   },
   "cell_type": "code",
   "source": "",
   "id": "f3eebce27dce604",
   "outputs": [],
   "execution_count": null
  },
  {
   "metadata": {},
   "cell_type": "markdown",
   "source": "# Model data preparation",
   "id": "81634640a7fe8252"
  },
  {
   "metadata": {
    "ExecuteTime": {
     "end_time": "2025-04-08T10:17:06.384547Z",
     "start_time": "2025-04-08T10:17:05.902389Z"
    }
   },
   "cell_type": "code",
   "source": [
    "# --- Load Data ---\n",
    "df_demog = pd.read_excel('Data/DataScientist_CaseStudy_Dataset.xlsx', sheet_name='Soc_Dem')\n",
    "df_bal = pd.read_excel('Data/DataScientist_CaseStudy_Dataset.xlsx', sheet_name='Products_ActBalance')\n",
    "df_in_out = pd.read_excel('Data/DataScientist_CaseStudy_Dataset.xlsx', sheet_name='Inflow_Outflow')\n",
    "df_target = pd.read_excel('Data/DataScientist_CaseStudy_Dataset.xlsx', sheet_name='Sales_Revenues')\n",
    "df_desc = pd.read_excel('Data/DataScientist_CaseStudy_Dataset.xlsx', sheet_name='Description')\n",
    "\n",
    "# Data merge pipeline\n",
    "df_master = (df_demog\n",
    "             .merge(df_in_out, on='Client')\n",
    "             .merge(df_bal, on='Client'))\n",
    "df_master_label = df_master.merge(df_target, on='Client').fillna(0)"
   ],
   "id": "21c9c10b51838c87",
   "outputs": [],
   "execution_count": 2
  },
  {
   "metadata": {},
   "cell_type": "markdown",
   "source": "# Model feature engineering",
   "id": "60f10df174f4edf9"
  },
  {
   "metadata": {
    "ExecuteTime": {
     "end_time": "2025-04-08T10:17:06.664089Z",
     "start_time": "2025-04-08T10:17:06.656760Z"
    }
   },
   "cell_type": "code",
   "source": [
    "# Adding feature engineering\n",
    "df_master_label['Avg_CA_bal'] = df_master_label['ActBal_CA']/df_master_label['Count_CA']\n",
    "df_master_label['Avg_SA_bal'] = df_master_label['ActBal_SA']/df_master_label['Count_SA']\n",
    "df_master_label['Avg_MF_bal'] = df_master_label['ActBal_MF']/df_master_label['Count_MF']\n",
    "df_master_label['utilization_CA'] = np.minimum(100,df_master_label['VolumeDeb_CA']/df_master_label['ActBal_CA'])"
   ],
   "id": "b77257863493d7a8",
   "outputs": [],
   "execution_count": 3
  },
  {
   "metadata": {
    "ExecuteTime": {
     "end_time": "2025-04-08T10:17:07.489260Z",
     "start_time": "2025-04-08T10:17:07.481718Z"
    }
   },
   "cell_type": "code",
   "source": "df_master_label['utilization_CA'].describe()",
   "id": "76315208f01d59a2",
   "outputs": [
    {
     "data": {
      "text/plain": [
       "count    951.000000\n",
       "mean      16.225776\n",
       "std       32.414396\n",
       "min        0.000000\n",
       "25%        0.135818\n",
       "50%        0.982017\n",
       "75%        8.535650\n",
       "max      100.000000\n",
       "Name: utilization_CA, dtype: float64"
      ]
     },
     "execution_count": 4,
     "metadata": {},
     "output_type": "execute_result"
    }
   ],
   "execution_count": 4
  },
  {
   "metadata": {},
   "cell_type": "markdown",
   "source": "# Model Training - Classification Models",
   "id": "4df80f136b532901"
  },
  {
   "metadata": {
    "ExecuteTime": {
     "end_time": "2025-04-08T08:59:38.926226Z",
     "start_time": "2025-04-08T08:59:34.930835Z"
    }
   },
   "cell_type": "code",
   "source": [
    "# --- Configuration ---\n",
    "# manually change below flags to train the 3 seperate models\n",
    "target_col = 'Sale_CL'\n",
    "# target_col = 'Sale_CC'\n",
    "# target_col = 'Sale_MF'\n",
    "\n",
    "drop_cols = ['Client', 'Sale_CC', 'Sale_MF', 'Sale_CL', 'Revenue_MF', 'Revenue_CL', 'Revenue_CC']\n",
    "\n",
    "# --- Split Data ---\n",
    "X_train, X_test, y_train, y_test = split_data(df_master_label, target_col, drop_cols)\n",
    "\n",
    "# --- Detect Categorical ---\n",
    "categorical_vars = detect_categorical(X_train)\n",
    "\n",
    "# --- Fit Binning ---\n",
    "binning_process = fit_binning(X_train, y_train, categorical_vars)\n",
    "\n",
    "# --- Create IV Table ---\n",
    "iv_df = create_iv_table(X_train, binning_process, target_col)\n",
    "print(\"Top IV variables:\")\n",
    "print(iv_df)\n",
    "\n",
    "# --- WoE Transform ---\n",
    "X_train_woe = binning_process.transform(X_train, metric=\"woe\")\n",
    "X_test_woe = binning_process.transform(X_test, metric=\"woe\")\n",
    "\n",
    "# --- VIF Reduction ---\n",
    "X_train_vif = drop_high_vif(X_train_woe)\n",
    "vif_selected_features = X_train_vif.columns.tolist()\n",
    "X_test_vif = X_test_woe[vif_selected_features]\n",
    "\n",
    "# --- Sequential Feature Selection ---\n",
    "selected_features = perform_feature_selection(X_train_vif, y_train)\n",
    "print(\"✅ Final selected features:\", selected_features)\n",
    "\n",
    "# --- Train Final Model ---\n",
    "X_train_final = X_train_vif[selected_features]\n",
    "X_test_final = X_test_vif[selected_features]\n",
    "lr_final = train_model(X_train_final, y_train)\n",
    "\n",
    "# --- Save Model & Metadata ---\n",
    "save_model_artifacts(lr_final, binning_process, selected_features, target_col)\n",
    "\n",
    "# --- Evaluate Model ---\n",
    "evaluate_model(lr_final, X_test_final, y_test, target_col)\n"
   ],
   "id": "30ce4f4490bac021",
   "outputs": [
    {
     "name": "stdout",
     "output_type": "stream",
     "text": [
      "Top IV variables:\n",
      "                        Variable        IV\n",
      "2                         Tenure  0.298206\n",
      "1                            Age  0.269976\n",
      "7                      VolumeDeb  0.154642\n",
      "8                   VolumeDeb_CA  0.134161\n",
      "29                    Avg_CA_bal  0.082223\n",
      "11        VolumeDeb_PaymentOrder  0.081808\n",
      "23                     ActBal_CA  0.081646\n",
      "15  TransactionsDebCashless_Card  0.071065\n",
      "14      TransactionsDebCash_Card  0.069225\n",
      "10        VolumeDebCashless_Card  0.067692\n",
      "32                utilization_CA  0.062826\n",
      "9             VolumeDebCash_Card  0.060428\n",
      "12               TransactionsDeb  0.048110\n",
      "13            TransactionsDeb_CA  0.047862\n",
      "4                  VolumeCred_CA  0.047279\n",
      "24                     ActBal_SA  0.045200\n",
      "3                     VolumeCred  0.043217\n",
      "31                    Avg_MF_bal  0.034913\n",
      "6            TransactionsCred_CA  0.034379\n",
      "5               TransactionsCred  0.033856\n",
      "19                      Count_MF  0.032041\n",
      "30                    Avg_SA_bal  0.027456\n",
      "27                     ActBal_CC  0.024734\n",
      "16  TransactionsDeb_PaymentOrder  0.022688\n",
      "25                     ActBal_MF  0.017351\n",
      "17                      Count_CA  0.014643\n",
      "28                     ActBal_CL  0.008988\n",
      "20                     Count_OVD  0.004411\n",
      "26                    ActBal_OVD  0.004200\n",
      "22                      Count_CL  0.002596\n",
      "0                            Sex  0.001566\n",
      "21                      Count_CC  0.000056\n",
      "18                      Count_SA  0.000043\n",
      "Dropping 'VolumeDeb_CA' with VIF = 7.64\n",
      "Dropping 'Avg_CA_bal' with VIF = 5.18\n"
     ]
    },
    {
     "name": "stderr",
     "output_type": "stream",
     "text": [
      "C:\\Users\\joeytian\\anaconda3\\Lib\\site-packages\\optbinning\\binning\\transformations.py:38: RuntimeWarning: invalid value encountered in log\n",
      "  return np.log((1. / event_rate - 1) * n_event / n_nonevent)\n",
      "C:\\Users\\joeytian\\anaconda3\\Lib\\site-packages\\optbinning\\binning\\transformations.py:38: RuntimeWarning: invalid value encountered in log\n",
      "  return np.log((1. / event_rate - 1) * n_event / n_nonevent)\n"
     ]
    },
    {
     "name": "stdout",
     "output_type": "stream",
     "text": [
      "✅ Final selected features: ['Age', 'Tenure', 'VolumeCred_CA', 'TransactionsCred', 'TransactionsCred_CA', 'VolumeDeb', 'VolumeDebCashless_Card', 'VolumeDeb_PaymentOrder', 'TransactionsDebCashless_Card', 'TransactionsDeb_PaymentOrder', 'Count_CA', 'ActBal_CA', 'ActBal_SA', 'ActBal_OVD', 'ActBal_CC', 'Avg_MF_bal']\n",
      "\n",
      "🔍 Model Evaluation on Test Set\n",
      "AUROC: 0.6731203007518797\n"
     ]
    },
    {
     "data": {
      "text/plain": [
       "<Figure size 600x400 with 1 Axes>"
      ],
      "image/png": "[encoded data removed]"
     },
     "metadata": {},
     "output_type": "display_data"
    }
   ],
   "execution_count": 7
  },
  {
   "metadata": {},
   "cell_type": "markdown",
   "source": "# Model Training - Regressor models",
   "id": "1015744f5e792fd1"
  },
  {
   "metadata": {
    "ExecuteTime": {
     "end_time": "2025-04-08T10:27:58.561170Z",
     "start_time": "2025-04-08T10:26:49.732765Z"
    }
   },
   "cell_type": "code",
   "source": [
    "# --- Configuration ---\n",
    "# manually change below flags to train the 3 seperate models\n",
    "# filter_col = 'Sale_CL'\n",
    "filter_col = 'Sale_CC'\n",
    "# filter_col = 'Sale_MF'\n",
    "# target_col = 'Revenue_CL'\n",
    "target_col = 'Revenue_CC'\n",
    "# target_col = 'Revenue_MF'\n",
    "\n",
    "drop_cols = ['Client', 'Sale_CC', 'Sale_MF', 'Sale_CL', 'Revenue_MF', 'Revenue_CL', 'Revenue_CC']\n",
    "\n",
    "# --- Filter out customers who have revenue ---\n",
    "df_master_label_filter = df_master_label[df_master_label[filter_col] > 0].copy()\n",
    "\n",
    "# --- Split Data ---\n",
    "X_train, X_test, y_train, y_test = split_data(df_master_label_filter, target_col, drop_cols)\n",
    "\n",
    "# Convert categorical columns to 'category' dtype\n",
    "X_train['Sex'] = X_train['Sex'].astype('category')\n",
    "X_test['Sex'] = X_test['Sex'].astype('category')\n",
    "# numeric_cols = X_train.select_dtypes(include=['number']).columns  # Select only numeric columns\n",
    "\n",
    "# --- Remove outliers ---\n",
    "# Calculate IQR for each feature\n",
    "# Q1 = X_train[numeric_cols].quantile(0.25)  # 25th percentile (Q1)\n",
    "# Q3 = X_train[numeric_cols].quantile(0.75)\n",
    "# IQR = Q3 - Q1\n",
    "#\n",
    "# # Identify and remove outliers\n",
    "# X_train_no_outliers = X_train[~((X_train[numeric_cols] < (Q1 - 1.5 * IQR)) | (X_train[numeric_cols] > (Q3 + 1.5 * IQR))).any(axis=1)]\n",
    "# y_train_no_outliers = y_train[~((X_train[numeric_cols] < (Q1 - 1.5 * IQR)) | (X_train[numeric_cols] > (Q3 + 1.5 * IQR))).any(axis=1)]\n",
    "\n",
    "# --- Train Regressor Model ---\n",
    "regressor_final = train_regressor(X_train, y_train)\n",
    "\n",
    "# --- Save Model & Metadata ---\n",
    "save_model_artifacts(regressor_final, None, None, target_col)\n",
    "\n",
    "# --- Evaluate Model ---\n",
    "y_pred = regressor_final.predict(X_test)\n",
    "evaluate_regressor_model(regressor_final, X_test, y_test, target_col)"
   ],
   "id": "17213a79cb0720f0",
   "outputs": [
    {
     "name": "stdout",
     "output_type": "stream",
     "text": [
      "Fitting 3 folds for each of 150 candidates, totalling 450 fits\n",
      "0:\tlearn: 19.5330367\ttotal: 861us\tremaining: 42.2ms\n",
      "1:\tlearn: 19.4913492\ttotal: 2.93ms\tremaining: 70.4ms\n",
      "2:\tlearn: 19.4522908\ttotal: 4.38ms\tremaining: 68.6ms\n",
      "3:\tlearn: 19.4115088\ttotal: 5.89ms\tremaining: 67.7ms\n",
      "4:\tlearn: 19.3782192\ttotal: 6.62ms\tremaining: 59.6ms\n",
      "5:\tlearn: 19.3441131\ttotal: 8.15ms\tremaining: 59.8ms\n",
      "6:\tlearn: 19.3152669\ttotal: 9.61ms\tremaining: 59ms\n",
      "7:\tlearn: 19.2727805\ttotal: 11ms\tremaining: 57.9ms\n",
      "8:\tlearn: 19.2376956\ttotal: 12.5ms\tremaining: 57ms\n",
      "9:\tlearn: 19.2005824\ttotal: 13.9ms\tremaining: 55.8ms\n",
      "10:\tlearn: 19.1655864\ttotal: 15.4ms\tremaining: 54.5ms\n",
      "11:\tlearn: 19.1260575\ttotal: 16.8ms\tremaining: 53.3ms\n",
      "12:\tlearn: 19.0905680\ttotal: 18.4ms\tremaining: 52.4ms\n",
      "13:\tlearn: 19.0517337\ttotal: 20ms\tremaining: 51.4ms\n",
      "14:\tlearn: 19.0134831\ttotal: 21.4ms\tremaining: 50ms\n",
      "15:\tlearn: 18.9797869\ttotal: 23ms\tremaining: 48.9ms\n",
      "16:\tlearn: 18.9410571\ttotal: 24.4ms\tremaining: 47.4ms\n",
      "17:\tlearn: 18.9090517\ttotal: 25.9ms\tremaining: 46.1ms\n",
      "18:\tlearn: 18.8750801\ttotal: 27.4ms\tremaining: 44.7ms\n",
      "19:\tlearn: 18.8388044\ttotal: 28.8ms\tremaining: 43.2ms\n",
      "20:\tlearn: 18.8061234\ttotal: 30.3ms\tremaining: 41.8ms\n",
      "21:\tlearn: 18.7640834\ttotal: 31.7ms\tremaining: 40.3ms\n",
      "22:\tlearn: 18.7388305\ttotal: 33.1ms\tremaining: 38.9ms\n",
      "23:\tlearn: 18.7027532\ttotal: 34.5ms\tremaining: 37.3ms\n",
      "24:\tlearn: 18.6644380\ttotal: 36ms\tremaining: 36ms\n",
      "25:\tlearn: 18.6272965\ttotal: 37.5ms\tremaining: 34.6ms\n",
      "26:\tlearn: 18.5962023\ttotal: 39ms\tremaining: 33.2ms\n",
      "27:\tlearn: 18.5589471\ttotal: 40.4ms\tremaining: 31.8ms\n",
      "28:\tlearn: 18.5283187\ttotal: 42ms\tremaining: 30.4ms\n",
      "29:\tlearn: 18.4895376\ttotal: 43.5ms\tremaining: 29ms\n",
      "30:\tlearn: 18.4519963\ttotal: 45ms\tremaining: 27.6ms\n",
      "31:\tlearn: 18.4288121\ttotal: 46.5ms\tremaining: 26.2ms\n",
      "32:\tlearn: 18.3898816\ttotal: 48.1ms\tremaining: 24.8ms\n",
      "33:\tlearn: 18.3505043\ttotal: 49.6ms\tremaining: 23.3ms\n",
      "34:\tlearn: 18.3195970\ttotal: 51ms\tremaining: 21.9ms\n",
      "35:\tlearn: 18.2832401\ttotal: 52.6ms\tremaining: 20.4ms\n",
      "36:\tlearn: 18.2464880\ttotal: 54ms\tremaining: 19ms\n",
      "37:\tlearn: 18.2101024\ttotal: 55.5ms\tremaining: 17.5ms\n",
      "38:\tlearn: 18.1791304\ttotal: 57ms\tremaining: 16.1ms\n",
      "39:\tlearn: 18.1467175\ttotal: 58.5ms\tremaining: 14.6ms\n",
      "40:\tlearn: 18.1100441\ttotal: 60.1ms\tremaining: 13.2ms\n",
      "41:\tlearn: 18.0789296\ttotal: 61.7ms\tremaining: 11.7ms\n",
      "42:\tlearn: 18.0448674\ttotal: 63.2ms\tremaining: 10.3ms\n",
      "43:\tlearn: 18.0091434\ttotal: 64.8ms\tremaining: 8.83ms\n",
      "44:\tlearn: 17.9753962\ttotal: 66.4ms\tremaining: 7.37ms\n",
      "45:\tlearn: 17.9389724\ttotal: 67.8ms\tremaining: 5.89ms\n",
      "46:\tlearn: 17.9031366\ttotal: 69.2ms\tremaining: 4.42ms\n",
      "47:\tlearn: 17.8672736\ttotal: 70.7ms\tremaining: 2.94ms\n",
      "48:\tlearn: 17.8343764\ttotal: 72.1ms\tremaining: 1.47ms\n",
      "49:\tlearn: 17.8033345\ttotal: 73.6ms\tremaining: 0us\n",
      "✅ Best Parameters: {'depth': 8, 'iterations': 50, 'learning_rate': 0.01}\n",
      "\n",
      "🔍 Model Evaluation on Test Set\n",
      "MAPE: 423.37750921221857\n"
     ]
    },
    {
     "data": {
      "text/plain": [
       "<Figure size 600x400 with 1 Axes>"
      ],
      "image/png": "[encoded data removed]"
     },
     "metadata": {},
     "output_type": "display_data"
    }
   ],
   "execution_count": 9
  },
  {
   "metadata": {
    "ExecuteTime": {
     "end_time": "2025-04-08T10:27:58.596112Z",
     "start_time": "2025-04-08T10:27:58.592369Z"
    }
   },
   "cell_type": "code",
   "source": [
    "print(target_col)\n",
    "y_pred.mean()"
   ],
   "id": "57058dc335d75fe2",
   "outputs": [
    {
     "name": "stdout",
     "output_type": "stream",
     "text": [
      "Revenue_CC\n"
     ]
    },
    {
     "data": {
      "text/plain": [
       "8.230029087143397"
      ]
     },
     "execution_count": 10,
     "metadata": {},
     "output_type": "execute_result"
    }
   ],
   "execution_count": 10
  },
  {
   "metadata": {
    "ExecuteTime": {
     "end_time": "2025-04-08T07:54:47.330288Z",
     "start_time": "2025-04-08T07:54:47.325876Z"
    }
   },
   "cell_type": "code",
   "source": "",
   "id": "f795d4de94a54817",
   "outputs": [],
   "execution_count": null
  },
  {
   "metadata": {},
   "cell_type": "code",
   "outputs": [],
   "execution_count": null,
   "source": "",
   "id": "482a4ae9b5281dc3"
  }
 ],
 "metadata": {
  "kernelspec": {
   "display_name": "Python 3",
   "language": "python",
   "name": "python3"
  },
  "language_info": {
   "codemirror_mode": {
    "name": "ipython",
    "version": 2
   },
   "file_extension": ".py",
   "mimetype": "text/x-python",
   "name": "python",
   "nbconvert_exporter": "python",
   "pygments_lexer": "ipython2",
   "version": "2.7.6"
  }
 },
 "nbformat": 4,
 "nbformat_minor": 5
}
