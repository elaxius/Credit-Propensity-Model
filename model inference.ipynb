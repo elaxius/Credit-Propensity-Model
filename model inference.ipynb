{
 "cells": [
  {
   "cell_type": "code",
   "id": "initial_id",
   "metadata": {
    "collapsed": true,
    "ExecuteTime": {
     "end_time": "2025-04-08T10:28:40.817200Z",
     "start_time": "2025-04-08T10:28:40.813604Z"
    }
   },
   "source": [
    "import joblib\n",
    "import pandas as pd\n",
    "import numpy as np"
   ],
   "outputs": [],
   "execution_count": 38
  },
  {
   "metadata": {
    "ExecuteTime": {
     "end_time": "2025-04-08T10:28:41.691758Z",
     "start_time": "2025-04-08T10:28:41.377890Z"
    }
   },
   "cell_type": "code",
   "source": [
    "# --- Load Data ---\n",
    "df_demog = pd.read_excel('Data/DataScientist_CaseStudy_Dataset.xlsx', sheet_name='Soc_Dem')\n",
    "df_bal = pd.read_excel('Data/DataScientist_CaseStudy_Dataset.xlsx', sheet_name='Products_ActBalance')\n",
    "df_in_out = pd.read_excel('Data/DataScientist_CaseStudy_Dataset.xlsx', sheet_name='Inflow_Outflow')\n",
    "df_target = pd.read_excel('Data/DataScientist_CaseStudy_Dataset.xlsx', sheet_name='Sales_Revenues')\n",
    "df_desc = pd.read_excel('Data/DataScientist_CaseStudy_Dataset.xlsx', sheet_name='Description')\n",
    "\n",
    "# Data merge pipeline\n",
    "df_master = (df_demog\n",
    "             .merge(df_in_out, on='Client')\n",
    "             .merge(df_bal, on='Client'))\n",
    "\n",
    "df_master_market = df_master[~df_master['Client'].isin(client for client in df_target['Client'])].fillna(0)\n",
    "\n",
    "# Adding feature engineering\n",
    "df_master_market['Avg_CA_bal'] = df_master_market['ActBal_CA']/df_master_market['Count_CA']\n",
    "df_master_market['Avg_SA_bal'] = df_master_market['ActBal_SA']/df_master_market['Count_SA']\n",
    "df_master_market['Avg_MF_bal'] = df_master_market['ActBal_MF']/df_master_market['Count_MF']\n",
    "df_master_market['utilization_CA'] = np.minimum(100,df_master_market['VolumeDeb_CA']/df_master_market['ActBal_CA'])\n",
    "\n",
    "df_master_market = df_master_market.drop(columns=['Client'])"
   ],
   "id": "9255db100f2bddf2",
   "outputs": [],
   "execution_count": 39
  },
  {
   "metadata": {
    "ExecuteTime": {
     "end_time": "2025-04-08T10:28:42.475135Z",
     "start_time": "2025-04-08T10:28:42.472232Z"
    }
   },
   "cell_type": "code",
   "source": "",
   "id": "b55a0776b1614a40",
   "outputs": [],
   "execution_count": null
  },
  {
   "metadata": {
    "ExecuteTime": {
     "end_time": "2025-04-08T10:29:05.696414Z",
     "start_time": "2025-04-08T10:29:05.447116Z"
    }
   },
   "cell_type": "code",
   "source": [
    "df_market_final = df_master_market.copy()\n",
    "products = [\"CL\", \"CC\", \"MF\"]\n",
    "\n",
    "for product in products:\n",
    "\n",
    "    # Predict probabilities\n",
    "    model = joblib.load(f\"Model/Sale_{product}_model.joblib\")\n",
    "    binning_process = joblib.load(f\"Model/Sale_{product}_binning_process.joblib\")\n",
    "    selected_features = joblib.load(f\"Model/Sale_{product}_selected_features.joblib\")\n",
    "\n",
    "    # --- Load or Prepare New Data for Scoring ---\n",
    "    X_new_woe = binning_process.transform(df_market_final, metric=\"woe\")\n",
    "    X_new_final = X_new_woe[selected_features]\n",
    "    pred_proba = model.predict_proba(X_new_final)[:, 1]\n",
    "\n",
    "    df_market_final[f\"prob_{product}\"] = pred_proba\n",
    "\n",
    "    # Predict Revenue\n",
    "    # Load the model from file\n",
    "\n",
    "    df_master_market['Sex'] = df_master_market['Sex'].astype('category')\n",
    "    regressor_loaded = joblib.load(f\"Model/Revenue_{product}_model.joblib\")\n",
    "    # Predict\n",
    "    y_pred = regressor_loaded.predict(df_master_market)\n",
    "    df_market_final[f\"rev_{product}\"] = y_pred\n",
    "\n",
    "    df_market_final[f\"expected_revenue_{product}\"] = df_market_final[f\"prob_{product}\"] * df_market_final[f\"rev_{product}\"]\n"
   ],
   "id": "1d42e1adcb067ca8",
   "outputs": [
    {
     "name": "stderr",
     "output_type": "stream",
     "text": [
      "C:\\Users\\joeytian\\anaconda3\\Lib\\site-packages\\optbinning\\binning\\transformations.py:38: RuntimeWarning: invalid value encountered in log\n",
      "  return np.log((1. / event_rate - 1) * n_event / n_nonevent)\n",
      "C:\\Users\\joeytian\\anaconda3\\Lib\\site-packages\\optbinning\\binning\\transformations.py:38: RuntimeWarning: invalid value encountered in log\n",
      "  return np.log((1. / event_rate - 1) * n_event / n_nonevent)\n",
      "C:\\Users\\joeytian\\anaconda3\\Lib\\site-packages\\optbinning\\binning\\transformations.py:38: RuntimeWarning: divide by zero encountered in log\n",
      "  return np.log((1. / event_rate - 1) * n_event / n_nonevent)\n"
     ]
    }
   ],
   "execution_count": 41
  },
  {
   "metadata": {
    "ExecuteTime": {
     "end_time": "2025-04-08T10:29:06.922863Z",
     "start_time": "2025-04-08T10:29:06.917104Z"
    }
   },
   "cell_type": "code",
   "source": [
    "# Select the expected revenue columns\n",
    "expected_revenue_cols = [f\"expected_revenue_{p}\" for p in products]\n",
    "\n",
    "# Max expected revenue across products\n",
    "df_market_final[\"expected_revenue\"] = df_market_final[expected_revenue_cols].max(axis=1)\n",
    "\n",
    "# Product with highest expected revenue (argmax)\n",
    "df_market_final[\"selected_product\"] = df_market_final[expected_revenue_cols].idxmax(axis=1).str.replace(\"expected_revenue_\", \"\")"
   ],
   "id": "a2a2f86901d1f414",
   "outputs": [],
   "execution_count": 42
  },
  {
   "metadata": {
    "ExecuteTime": {
     "end_time": "2025-04-08T10:29:08.356819Z",
     "start_time": "2025-04-08T10:29:08.351733Z"
    }
   },
   "cell_type": "code",
   "source": [
    "df_top100 = df_market_final.sort_values(by=\"expected_revenue\", ascending=False).head(100)\n",
    "df_top100.to_csv(\"Client_List_Final.csv\")"
   ],
   "id": "e061f1aa16086e22",
   "outputs": [],
   "execution_count": 43
  },
  {
   "metadata": {
    "ExecuteTime": {
     "end_time": "2025-04-08T10:30:33.155210Z",
     "start_time": "2025-04-08T10:30:33.148695Z"
    }
   },
   "cell_type": "code",
   "source": "df_top100['expected_revenue'].sum()",
   "id": "d95f01001851272e",
   "outputs": [
    {
     "data": {
      "text/plain": [
       "840.8758145908482"
      ]
     },
     "execution_count": 45,
     "metadata": {},
     "output_type": "execute_result"
    }
   ],
   "execution_count": 45
  },
  {
   "metadata": {},
   "cell_type": "code",
   "outputs": [],
   "execution_count": null,
   "source": "",
   "id": "39729aeedcdd7d68"
  }
 ],
 "metadata": {
  "kernelspec": {
   "display_name": "Python 3",
   "language": "python",
   "name": "python3"
  },
  "language_info": {
   "codemirror_mode": {
    "name": "ipython",
    "version": 2
   },
   "file_extension": ".py",
   "mimetype": "text/x-python",
   "name": "python",
   "nbconvert_exporter": "python",
   "pygments_lexer": "ipython2",
   "version": "2.7.6"
  }
 },
 "nbformat": 4,
 "nbformat_minor": 5
}
